{
 "cells": [
  {
   "cell_type": "code",
   "execution_count": null,
   "metadata": {},
   "outputs": [
    {
     "name": "stdout",
     "output_type": "stream",
     "text": [
      "An error occurred: [Errno 13] Permission denied: '.'\n"
     ]
    }
   ],
   "source": [
    "import numpy as np\n",
    "\n",
    "import matplotlib.pyplot as plt\n",
    "\n",
    "# OpenFOAM 파일 읽기 함수\n",
    "def read_openfoam_file(file_path):\n",
    "    with open(file_path, 'r') as file:\n",
    "        lines = file.readlines()\n",
    "    \n",
    "    # 데이터를 저장할 리스트\n",
    "    data = []\n",
    "    for line in lines:\n",
    "        # 주석(#)이나 빈 줄은 무시\n",
    "        if line.strip().startswith('#') or not line.strip():\n",
    "            continue\n",
    "        # 데이터를 float로 변환하여 저장\n",
    "        try:\n",
    "            data.append([float(x) for x in line.split()])\n",
    "        except ValueError:\n",
    "            continue\n",
    "    \n",
    "    return np.array(data)\n",
    "\n",
    "# 데이터 플롯 함수\n",
    "def plot_openfoam_data(data, x_index=0, y_index=1):\n",
    "    x = data[:, x_index]\n",
    "    y = data[:, y_index]\n",
    "    \n",
    "    plt.figure(figsize=(8, 6))\n",
    "    plt.plot(x, y, label='OpenFOAM Data')\n",
    "    plt.xlabel(f'Column {x_index}')\n",
    "    plt.ylabel(f'Column {y_index}')\n",
    "    plt.title('OpenFOAM Data Plot')\n",
    "    plt.legend()\n",
    "    plt.grid(True)\n",
    "    plt.show()\n",
    "/\n",
    "# 파일 경로 지정\n",
    "file_path = 'path_to_your_openfoam_file.dat'  # Replace with the actual file path\n",
    "\n",
    "try:\n",
    "    # 파일 읽기\n",
    "    data = read_openfoam_file(file_path)\n",
    "    # 플롯\n",
    "    plot_openfoam_data(data)\n",
    "except FileNotFoundError:\n",
    "    print(f\"Error: The file '{file_path}' was not found. Please check the file path.\")\n",
    "except Exception as e:\n",
    "    print(f\"An error occurred: {e}\")"
   ]
  },
  {
   "cell_type": "code",
   "execution_count": null,
   "metadata": {},
   "outputs": [],
   "source": []
  },
  {
   "cell_type": "code",
   "execution_count": null,
   "metadata": {},
   "outputs": [],
   "source": []
  },
  {
   "cell_type": "code",
   "execution_count": null,
   "metadata": {},
   "outputs": [],
   "source": []
  }
 ],
 "metadata": {
  "kernelspec": {
   "display_name": "Python 3",
   "language": "python",
   "name": "python3"
  },
  "language_info": {
   "codemirror_mode": {
    "name": "ipython",
    "version": 3
   },
   "file_extension": ".py",
   "mimetype": "text/x-python",
   "name": "python",
   "nbconvert_exporter": "python",
   "pygments_lexer": "ipython3",
   "version": "3.13.0"
  }
 },
 "nbformat": 4,
 "nbformat_minor": 2
}
